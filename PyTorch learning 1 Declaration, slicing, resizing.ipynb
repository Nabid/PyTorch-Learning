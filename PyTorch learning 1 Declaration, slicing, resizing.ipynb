{
 "cells": [
  {
   "cell_type": "code",
   "execution_count": 2,
   "id": "c602f7c2",
   "metadata": {},
   "outputs": [],
   "source": [
    "import torch\n",
    "import numpy as np"
   ]
  },
  {
   "cell_type": "markdown",
   "id": "371ff77b-8bbc-468e-8c97-e84659bace0a",
   "metadata": {},
   "source": [
    "### Torch and Numpy - rand"
   ]
  },
  {
   "cell_type": "code",
   "execution_count": 11,
   "id": "36389fdb-83ba-4d26-add9-b58482158520",
   "metadata": {},
   "outputs": [
    {
     "name": "stdout",
     "output_type": "stream",
     "text": [
      "tensor([[0.8383, 0.4117],\n",
      "        [0.4163, 0.3539],\n",
      "        [0.2092, 0.1596]])\n",
      "[[0.43410661 0.50036401]\n",
      " [0.63341489 0.41355207]\n",
      " [0.77858689 0.10970461]]\n",
      "type of xt = <class 'torch.Tensor'>, type of xn = <class 'numpy.ndarray'>\n"
     ]
    }
   ],
   "source": [
    "xt = torch.rand(3,2)\n",
    "print(xt)\n",
    "\n",
    "xn = np.random.rand(3,2)\n",
    "print(xn)\n",
    "\n",
    "print(f'type of xt = {type(xt)}, type of xn = {type(xn)}')"
   ]
  },
  {
   "cell_type": "code",
   "execution_count": 12,
   "id": "548db132-8516-4184-91a2-88cf8681382d",
   "metadata": {},
   "outputs": [
    {
     "name": "stdout",
     "output_type": "stream",
     "text": [
      "tensor([[[0.3830, 0.8086, 0.6509],\n",
      "         [0.7013, 0.8648, 0.6911]],\n",
      "\n",
      "        [[0.6621, 0.4616, 0.9073],\n",
      "         [0.1162, 0.3834, 0.7430]],\n",
      "\n",
      "        [[0.7844, 0.7168, 0.8787],\n",
      "         [0.3361, 0.4746, 0.6394]]])\n",
      "[[[0.14755787 0.32352626 0.60663712]\n",
      "  [0.14141418 0.1687627  0.29244438]]\n",
      "\n",
      " [[0.52929288 0.98311014 0.21345911]\n",
      "  [0.15292472 0.58464494 0.17211287]]\n",
      "\n",
      " [[0.32809916 0.63612133 0.14327148]\n",
      "  [0.53356943 0.0276043  0.83645594]]]\n",
      "type of xt = <class 'torch.Tensor'>, type of xn = <class 'numpy.ndarray'>\n"
     ]
    }
   ],
   "source": [
    "xt = torch.rand(3,2,3)\n",
    "print(xt)\n",
    "\n",
    "xn = np.random.rand(3,2,3)\n",
    "print(xn)\n",
    "\n",
    "print(f'type of xt = {type(xt)}, type of xn = {type(xn)}')"
   ]
  },
  {
   "cell_type": "code",
   "execution_count": 16,
   "id": "3d18fd49-6861-4583-9788-467e4fe16bc5",
   "metadata": {},
   "outputs": [
    {
     "name": "stdout",
     "output_type": "stream",
     "text": [
      "tensor([[[0.0565, 0.2616, 0.3948],\n",
      "         [0.0992, 0.1459, 0.2021]],\n",
      "\n",
      "        [[0.3505, 0.4538, 0.1937],\n",
      "         [0.0178, 0.2242, 0.1279]],\n",
      "\n",
      "        [[0.2574, 0.4560, 0.1259],\n",
      "         [0.1793, 0.0131, 0.5349]]], dtype=torch.float64)\n"
     ]
    }
   ],
   "source": [
    "print(xt*xn)"
   ]
  },
  {
   "cell_type": "markdown",
   "id": "ff30af54-24f2-4b85-965a-2ed47e5c1934",
   "metadata": {},
   "source": [
    "### Slicing"
   ]
  },
  {
   "cell_type": "code",
   "execution_count": 28,
   "id": "646b4b12-44ee-4228-86f4-b735596d439a",
   "metadata": {},
   "outputs": [
    {
     "name": "stdout",
     "output_type": "stream",
     "text": [
      "tensor([[0.6587, 0.1773, 0.3811, 0.3104],\n",
      "        [0.8058, 0.6570, 0.2945, 0.7069],\n",
      "        [0.9050, 0.3028, 0.6840, 0.8042]])\n"
     ]
    }
   ],
   "source": [
    "x = torch.rand(3,4)\n",
    "y = np.random.rand(3,4)\n",
    "\n",
    "print(x)"
   ]
  },
  {
   "cell_type": "code",
   "execution_count": 34,
   "id": "ea6bbbaa-c501-4ca3-b671-b894bdbcf6d5",
   "metadata": {},
   "outputs": [
    {
     "name": "stdout",
     "output_type": "stream",
     "text": [
      "tensor([0.1773, 0.6570, 0.3028])\n",
      "tensor([[0.1773, 0.3811],\n",
      "        [0.6570, 0.2945],\n",
      "        [0.3028, 0.6840]])\n"
     ]
    }
   ],
   "source": [
    "print(x[:, 1])   # only column #1\n",
    "print(x[:, 1:3]) # only column #1 to until #3"
   ]
  },
  {
   "cell_type": "code",
   "execution_count": 35,
   "id": "86cfb834-b162-4802-9fbd-0ba456bf5146",
   "metadata": {},
   "outputs": [
    {
     "name": "stdout",
     "output_type": "stream",
     "text": [
      "tensor([[0.8058, 0.6570, 0.2945, 0.7069],\n",
      "        [0.9050, 0.3028, 0.6840, 0.8042]])\n"
     ]
    }
   ],
   "source": [
    "print(x[1:, :]) # from #1th row until all row and all columns"
   ]
  },
  {
   "cell_type": "code",
   "execution_count": 36,
   "id": "336de242-d077-4a49-9f6f-24450ba762ce",
   "metadata": {},
   "outputs": [
    {
     "name": "stdout",
     "output_type": "stream",
     "text": [
      "tensor([[0.6570, 0.2945],\n",
      "        [0.3028, 0.6840]])\n"
     ]
    }
   ],
   "source": [
    "# from row #1 row until all row\n",
    "# from column #1 to until #3\n",
    "print(x[1:, 1:3])"
   ]
  },
  {
   "cell_type": "markdown",
   "id": "12657943-19f3-488b-9800-9e21aaaa0e70",
   "metadata": {
    "tags": []
   },
   "source": [
    "### Resizing"
   ]
  },
  {
   "cell_type": "code",
   "execution_count": 41,
   "id": "6079848b-b208-40fc-9877-dffbb5b93103",
   "metadata": {},
   "outputs": [
    {
     "name": "stdout",
     "output_type": "stream",
     "text": [
      "torch.Size([3, 4])\n",
      "tensor([0.6587, 0.1773, 0.3811, 0.3104, 0.8058, 0.6570, 0.2945, 0.7069, 0.9050,\n",
      "        0.3028, 0.6840, 0.8042])\n"
     ]
    }
   ],
   "source": [
    "print(x.size())\n",
    "y = x.view(12) # one dimentional\n",
    "print(y)"
   ]
  },
  {
   "cell_type": "code",
   "execution_count": 48,
   "id": "0e56169c-0091-40cb-80f3-255217eee9dd",
   "metadata": {},
   "outputs": [
    {
     "name": "stdout",
     "output_type": "stream",
     "text": [
      "tensor([[0.6587, 0.1773, 0.3811, 0.3104, 0.8058, 0.6570],\n",
      "        [0.2945, 0.7069, 0.9050, 0.3028, 0.6840, 0.8042]])\n"
     ]
    }
   ],
   "source": [
    "y = x.view(2, 6) # 2x6\n",
    "print(y)"
   ]
  },
  {
   "cell_type": "markdown",
   "id": "3a496c81-ea72-46e0-a3df-df4bbcc9e649",
   "metadata": {},
   "source": [
    "### Simple Torch operations"
   ]
  },
  {
   "cell_type": "code",
   "execution_count": 22,
   "id": "edec64c6-61d8-426c-bb1a-f71cf518f785",
   "metadata": {},
   "outputs": [
    {
     "data": {
      "text/plain": [
       "tensor([[0.1490, 1.0534, 1.0373],\n",
       "        [0.5835, 1.7363, 1.7754]])"
      ]
     },
     "execution_count": 22,
     "metadata": {},
     "output_type": "execute_result"
    }
   ],
   "source": [
    "x = torch.rand(2,3)\n",
    "y = torch.rand(2,3)\n",
    "\n",
    "# ADDITIONS         # SUB, MUL, DIV\n",
    "z = x + y           # -    *    /\n",
    "z = torch.add(x, y) # sub  mul  div\n",
    "y.add_(x) # inplace # \n",
    "\n"
   ]
  },
  {
   "cell_type": "markdown",
   "id": "c13b0863-b8d5-4d7c-af45-c5c2bc245252",
   "metadata": {},
   "source": [
    "### Torch <-> Numpy conversion"
   ]
  },
  {
   "cell_type": "code",
   "execution_count": 55,
   "id": "a0c09d87-6546-4ac8-9a06-e980f4b483cd",
   "metadata": {},
   "outputs": [
    {
     "name": "stdout",
     "output_type": "stream",
     "text": [
      "tensor([[1.6587, 1.1773, 1.3811, 1.3104],\n",
      "        [1.8058, 1.6570, 1.2945, 1.7069],\n",
      "        [1.9050, 1.3028, 1.6840, 1.8042]])\n",
      "<class 'torch.Tensor'>\n",
      "[[1.6587033 1.1772724 1.3810623 1.310389 ]\n",
      " [1.8058476 1.657022  1.2945385 1.7069143]\n",
      " [1.9049897 1.3028443 1.6839669 1.804187 ]]\n",
      "<class 'numpy.ndarray'>\n"
     ]
    }
   ],
   "source": [
    "# torch to numpy\n",
    "print(x)\n",
    "print(type(x))\n",
    "\n",
    "n = x.numpy()\n",
    "print(n)\n",
    "print(type(n))"
   ]
  },
  {
   "cell_type": "markdown",
   "id": "68b48e39-7e29-436c-8515-314f4f0b7dc0",
   "metadata": {},
   "source": [
    "#### Important - deep copy"
   ]
  },
  {
   "cell_type": "code",
   "execution_count": 56,
   "id": "c73c8596-5328-4c9c-a4fb-bb42b2b0f02a",
   "metadata": {},
   "outputs": [
    {
     "name": "stdout",
     "output_type": "stream",
     "text": [
      "tensor([[2.6587, 2.1773, 2.3811, 2.3104],\n",
      "        [2.8058, 2.6570, 2.2945, 2.7069],\n",
      "        [2.9050, 2.3028, 2.6840, 2.8042]])\n",
      "[[2.6587033 2.1772723 2.3810623 2.310389 ]\n",
      " [2.8058476 2.657022  2.2945385 2.7069144]\n",
      " [2.9049897 2.3028443 2.6839669 2.804187 ]]\n"
     ]
    }
   ],
   "source": [
    "x.add_(1) # inplace add 1\n",
    "\n",
    "print(x)\n",
    "print(n) # 1 is added to \"n\" too"
   ]
  },
  {
   "cell_type": "code",
   "execution_count": 59,
   "id": "d77a25bd-11cd-445d-b21c-105379992418",
   "metadata": {},
   "outputs": [
    {
     "name": "stdout",
     "output_type": "stream",
     "text": [
      "tensor([[4.6587, 4.1773, 4.3811, 4.3104],\n",
      "        [4.8058, 4.6570, 4.2945, 4.7069],\n",
      "        [4.9050, 4.3028, 4.6840, 4.8042]])\n",
      "[[3.6587033 3.1772723 3.3810623 3.310389 ]\n",
      " [3.8058476 3.657022  3.2945385 3.7069144]\n",
      " [3.9049897 3.3028443 3.6839669 3.804187 ]]\n"
     ]
    }
   ],
   "source": [
    "n = x.clone().numpy()\n",
    "x.add_(1)\n",
    "\n",
    "print(x)\n",
    "print(n) # did not added "
   ]
  },
  {
   "cell_type": "code",
   "execution_count": null,
   "id": "6d9a9042-0c6f-4a10-86fe-ad219885d4f0",
   "metadata": {},
   "outputs": [],
   "source": []
  }
 ],
 "metadata": {
  "kernelspec": {
   "display_name": "Python 3",
   "language": "python",
   "name": "python3"
  },
  "language_info": {
   "codemirror_mode": {
    "name": "ipython",
    "version": 3
   },
   "file_extension": ".py",
   "mimetype": "text/x-python",
   "name": "python",
   "nbconvert_exporter": "python",
   "pygments_lexer": "ipython3",
   "version": "3.8.10"
  },
  "toc-showtags": false
 },
 "nbformat": 4,
 "nbformat_minor": 5
}
