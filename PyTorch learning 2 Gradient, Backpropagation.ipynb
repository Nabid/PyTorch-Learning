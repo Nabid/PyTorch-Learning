{
 "cells": [
  {
   "cell_type": "code",
   "execution_count": 54,
   "id": "90002c87-e633-4abd-a2c5-0719106d7363",
   "metadata": {},
   "outputs": [],
   "source": [
    "import torch\n",
    "import numpy as np"
   ]
  },
  {
   "cell_type": "code",
   "execution_count": 55,
   "id": "3490acf9-9792-467b-865c-88c9bd3376e4",
   "metadata": {},
   "outputs": [
    {
     "name": "stdout",
     "output_type": "stream",
     "text": [
      "tensor([ 1.5220,  0.9450, -0.5174,  0.8648])\n",
      "tensor([ 0.0071, -0.8699, -0.4042, -0.1628], requires_grad=True)\n"
     ]
    }
   ],
   "source": [
    "x = torch.randn(4)\n",
    "print(x)\n",
    "xg = torch.randn(4, requires_grad=True)\n",
    "print(xg)"
   ]
  },
  {
   "cell_type": "code",
   "execution_count": 56,
   "id": "e70e0cb1-3ef4-4498-bd7b-3f3e18b81837",
   "metadata": {},
   "outputs": [
    {
     "name": "stdout",
     "output_type": "stream",
     "text": [
      "tensor([3.5220, 2.9450, 1.4826, 2.8648])\n",
      "tensor([2.0071, 1.1301, 1.5958, 1.8372], grad_fn=<AddBackward0>)\n"
     ]
    }
   ],
   "source": [
    "y = x + 2\n",
    "print(y)\n",
    "yg = xg + 2\n",
    "print(yg)"
   ]
  },
  {
   "cell_type": "code",
   "execution_count": 60,
   "id": "98c63dc0-6870-4189-8ab9-6d62a2a708b8",
   "metadata": {},
   "outputs": [
    {
     "name": "stdout",
     "output_type": "stream",
     "text": [
      "tensor([8.0570, 2.5544, 5.0929, 6.7505], grad_fn=<MulBackward0>)\n"
     ]
    }
   ],
   "source": [
    "zg = yg * yg * 2\n",
    "print(zg)"
   ]
  },
  {
   "cell_type": "markdown",
   "id": "13c9e68c-15fb-4325-9b13-2bb571d73691",
   "metadata": {},
   "source": [
    "### grad for Scalar output"
   ]
  },
  {
   "cell_type": "code",
   "execution_count": 58,
   "id": "7ed04c36-1b72-4026-a38e-94b57df11864",
   "metadata": {},
   "outputs": [
    {
     "name": "stdout",
     "output_type": "stream",
     "text": [
      "tensor(5.6137, grad_fn=<MeanBackward0>)\n",
      "tensor([2.0071, 1.1301, 1.5958, 1.8372])\n"
     ]
    }
   ],
   "source": [
    "zg = zg.mean()\n",
    "print(zg)\n",
    "\n",
    "zg.backward() # dz/dx\n",
    "print(xg.grad)"
   ]
  },
  {
   "cell_type": "markdown",
   "id": "c1b03cb2-ee2d-40e9-8ee6-4ea5286526fe",
   "metadata": {},
   "source": [
    "### grad for Vector output"
   ]
  },
  {
   "cell_type": "code",
   "execution_count": 61,
   "id": "4ddb6106-7d12-4379-802d-5cb69dc29936",
   "metadata": {},
   "outputs": [
    {
     "name": "stdout",
     "output_type": "stream",
     "text": [
      "tensor([2.8100, 5.6506, 1.5958, 1.8445])\n"
     ]
    }
   ],
   "source": [
    "v = torch.tensor([0.1, 1.0, 0.0, 0.001], dtype=torch.float32)\n",
    "zg.backward(v) # dz/dx\n",
    "print(xg.grad)"
   ]
  },
  {
   "cell_type": "markdown",
   "id": "86eb7770-d062-440e-a2e3-7fc448002ee0",
   "metadata": {},
   "source": [
    "##### dz/dx\n",
    "\n",
    "Jaccobian matrix and Chain rule\n",
    "\n",
    "J . v\n",
    "\n",
    "v is the vector above torch.tensor"
   ]
  },
  {
   "cell_type": "markdown",
   "id": "08855060-c47e-45c4-b5bf-40372c3f9e3a",
   "metadata": {},
   "source": [
    "### detaching requires_grad attribute"
   ]
  },
  {
   "cell_type": "code",
   "execution_count": 62,
   "id": "73cb940e-899e-4a9b-ade7-75947671fa64",
   "metadata": {},
   "outputs": [
    {
     "name": "stdout",
     "output_type": "stream",
     "text": [
      "tensor([ 0.0071, -0.8699, -0.4042, -0.1628], requires_grad=True)\n"
     ]
    }
   ],
   "source": [
    "print(xg)"
   ]
  },
  {
   "cell_type": "markdown",
   "id": "06abc347-a4c4-4470-b6b2-6487c53df16e",
   "metadata": {},
   "source": [
    "#### method 1"
   ]
  },
  {
   "cell_type": "code",
   "execution_count": 63,
   "id": "ac9288fa-c0ff-4943-869b-ca4f02939ab4",
   "metadata": {},
   "outputs": [
    {
     "name": "stdout",
     "output_type": "stream",
     "text": [
      "tensor([1.0071, 0.1301, 0.5958, 0.8372])\n"
     ]
    }
   ],
   "source": [
    "with torch.no_grad():\n",
    "    y = xg + 1\n",
    "    print(y)"
   ]
  },
  {
   "cell_type": "markdown",
   "id": "3a41c694-32bc-4269-bf96-748b03c2f566",
   "metadata": {},
   "source": [
    "#### method 2"
   ]
  },
  {
   "cell_type": "code",
   "execution_count": 64,
   "id": "658597d7-c18f-4fdc-b1f1-f2fd62494e41",
   "metadata": {},
   "outputs": [
    {
     "name": "stdout",
     "output_type": "stream",
     "text": [
      "tensor([ 0.0071, -0.8699, -0.4042, -0.1628])\n"
     ]
    }
   ],
   "source": [
    "y = xg.detach()\n",
    "print(y)"
   ]
  },
  {
   "cell_type": "markdown",
   "id": "745636e9-cfb4-40b0-9a9d-70df2d71de90",
   "metadata": {},
   "source": [
    "#### method 3"
   ]
  },
  {
   "cell_type": "code",
   "execution_count": 65,
   "id": "55e1d9b3-d8c1-43d6-b272-7f295619a51d",
   "metadata": {},
   "outputs": [
    {
     "data": {
      "text/plain": [
       "tensor([ 0.0071, -0.8699, -0.4042, -0.1628])"
      ]
     },
     "execution_count": 65,
     "metadata": {},
     "output_type": "execute_result"
    }
   ],
   "source": [
    "xg.requires_grad_(False)"
   ]
  },
  {
   "cell_type": "markdown",
   "id": "ab7657bc-5271-4ecf-9b5c-e785e53ad957",
   "metadata": {},
   "source": [
    "### Example"
   ]
  },
  {
   "cell_type": "code",
   "execution_count": 66,
   "id": "24121bee-2536-49c8-9dca-8df606ae3f8a",
   "metadata": {},
   "outputs": [
    {
     "name": "stdout",
     "output_type": "stream",
     "text": [
      "tensor([1., 1., 1., 1., 1.], requires_grad=True)\n"
     ]
    }
   ],
   "source": [
    "weights = torch.ones(5, requires_grad=True)\n",
    "print(weights)"
   ]
  },
  {
   "cell_type": "code",
   "execution_count": 67,
   "id": "13d9d65d-70d6-4c44-85d3-f0fe17b9e34d",
   "metadata": {},
   "outputs": [
    {
     "name": "stdout",
     "output_type": "stream",
     "text": [
      "tensor([3., 3., 3., 3., 3.])\n"
     ]
    }
   ],
   "source": [
    "weights = torch.ones(5, requires_grad=True)\n",
    "for epoch in range(1):\n",
    "    model_output = (weights * 3).sum()\n",
    "    model_output.backward()\n",
    "    print(weights.grad)"
   ]
  },
  {
   "cell_type": "markdown",
   "id": "52f0a271-4ae3-41b0-9d02-78b297ad1b89",
   "metadata": {},
   "source": [
    "#### Important:\n",
    "must clear ```.grad``` before the next iteration\n",
    "\n",
    "Example: **Incorrect Output**"
   ]
  },
  {
   "cell_type": "code",
   "execution_count": 68,
   "id": "6b691840-ca53-4243-90ea-fbc2d695c4de",
   "metadata": {},
   "outputs": [
    {
     "name": "stdout",
     "output_type": "stream",
     "text": [
      "tensor([3., 3., 3., 3., 3.])\n",
      "tensor([6., 6., 6., 6., 6.])\n",
      "tensor([9., 9., 9., 9., 9.])\n"
     ]
    }
   ],
   "source": [
    "weights = torch.ones(5, requires_grad=True)\n",
    "for epoch in range(3):\n",
    "    model_output = (weights * 3).sum()\n",
    "    model_output.backward()\n",
    "    print(weights.grad)"
   ]
  },
  {
   "cell_type": "markdown",
   "id": "c46fdc78-d2bc-4ad8-bfdb-8f3940868138",
   "metadata": {},
   "source": [
    "Example: **Correct Output**"
   ]
  },
  {
   "cell_type": "code",
   "execution_count": 69,
   "id": "56c0a066-6f47-4712-b101-1215da8362db",
   "metadata": {},
   "outputs": [
    {
     "name": "stdout",
     "output_type": "stream",
     "text": [
      "tensor([3., 3., 3., 3., 3.])\n",
      "tensor([3., 3., 3., 3., 3.])\n",
      "tensor([3., 3., 3., 3., 3.])\n"
     ]
    }
   ],
   "source": [
    "weights = torch.ones(5, requires_grad=True)\n",
    "for epoch in range(3):\n",
    "    model_output = (weights * 3).sum()\n",
    "    model_output.backward()\n",
    "    print(weights.grad)\n",
    "    weights.grad.zero_()"
   ]
  },
  {
   "cell_type": "markdown",
   "id": "bf1cfa0f-dbcd-4ddb-8ec4-35a5321bac73",
   "metadata": {},
   "source": [
    "Example: **Optimizer**"
   ]
  },
  {
   "cell_type": "code",
   "execution_count": 70,
   "id": "62cba8d7-d060-426f-a13f-7e9597367a44",
   "metadata": {},
   "outputs": [
    {
     "name": "stdout",
     "output_type": "stream",
     "text": [
      "<class 'torch.Tensor'>\n"
     ]
    },
    {
     "ename": "TypeError",
     "evalue": "params argument given to the optimizer should be an iterable of Tensors or dicts, but got torch.FloatTensor",
     "output_type": "error",
     "traceback": [
      "\u001b[0;31m---------------------------------------------------------------------------\u001b[0m",
      "\u001b[0;31mTypeError\u001b[0m                                 Traceback (most recent call last)",
      "\u001b[0;32m<ipython-input-70-c73220382750>\u001b[0m in \u001b[0;36m<module>\u001b[0;34m\u001b[0m\n\u001b[1;32m      1\u001b[0m \u001b[0mweights\u001b[0m \u001b[0;34m=\u001b[0m \u001b[0mtorch\u001b[0m\u001b[0;34m.\u001b[0m\u001b[0mones\u001b[0m\u001b[0;34m(\u001b[0m\u001b[0;36m5\u001b[0m\u001b[0;34m,\u001b[0m \u001b[0mrequires_grad\u001b[0m\u001b[0;34m=\u001b[0m\u001b[0;32mTrue\u001b[0m\u001b[0;34m)\u001b[0m\u001b[0;34m\u001b[0m\u001b[0;34m\u001b[0m\u001b[0m\n\u001b[1;32m      2\u001b[0m \u001b[0mprint\u001b[0m\u001b[0;34m(\u001b[0m\u001b[0mtype\u001b[0m\u001b[0;34m(\u001b[0m\u001b[0mweights\u001b[0m\u001b[0;34m)\u001b[0m\u001b[0;34m)\u001b[0m\u001b[0;34m\u001b[0m\u001b[0;34m\u001b[0m\u001b[0m\n\u001b[0;32m----> 3\u001b[0;31m \u001b[0moptimizer\u001b[0m \u001b[0;34m=\u001b[0m \u001b[0mtorch\u001b[0m\u001b[0;34m.\u001b[0m\u001b[0moptim\u001b[0m\u001b[0;34m.\u001b[0m\u001b[0mSGD\u001b[0m\u001b[0;34m(\u001b[0m\u001b[0mweights\u001b[0m\u001b[0;34m,\u001b[0m \u001b[0mlr\u001b[0m\u001b[0;34m=\u001b[0m\u001b[0;36m0.01\u001b[0m\u001b[0;34m)\u001b[0m\u001b[0;34m\u001b[0m\u001b[0;34m\u001b[0m\u001b[0m\n\u001b[0m\u001b[1;32m      4\u001b[0m \u001b[0moptimizer\u001b[0m\u001b[0;34m.\u001b[0m\u001b[0mstep\u001b[0m\u001b[0;34m(\u001b[0m\u001b[0;34m)\u001b[0m\u001b[0;34m\u001b[0m\u001b[0;34m\u001b[0m\u001b[0m\n\u001b[1;32m      5\u001b[0m \u001b[0moptimizer\u001b[0m\u001b[0;34m.\u001b[0m\u001b[0mzero_grad\u001b[0m\u001b[0;34m(\u001b[0m\u001b[0;34m)\u001b[0m\u001b[0;34m\u001b[0m\u001b[0;34m\u001b[0m\u001b[0m\n",
      "\u001b[0;32m~/anaconda3/envs/d2l/lib/python3.8/site-packages/torch/optim/sgd.py\u001b[0m in \u001b[0;36m__init__\u001b[0;34m(self, params, lr, momentum, dampening, weight_decay, nesterov)\u001b[0m\n\u001b[1;32m     67\u001b[0m         \u001b[0;32mif\u001b[0m \u001b[0mnesterov\u001b[0m \u001b[0;32mand\u001b[0m \u001b[0;34m(\u001b[0m\u001b[0mmomentum\u001b[0m \u001b[0;34m<=\u001b[0m \u001b[0;36m0\u001b[0m \u001b[0;32mor\u001b[0m \u001b[0mdampening\u001b[0m \u001b[0;34m!=\u001b[0m \u001b[0;36m0\u001b[0m\u001b[0;34m)\u001b[0m\u001b[0;34m:\u001b[0m\u001b[0;34m\u001b[0m\u001b[0;34m\u001b[0m\u001b[0m\n\u001b[1;32m     68\u001b[0m             \u001b[0;32mraise\u001b[0m \u001b[0mValueError\u001b[0m\u001b[0;34m(\u001b[0m\u001b[0;34m\"Nesterov momentum requires a momentum and zero dampening\"\u001b[0m\u001b[0;34m)\u001b[0m\u001b[0;34m\u001b[0m\u001b[0;34m\u001b[0m\u001b[0m\n\u001b[0;32m---> 69\u001b[0;31m         \u001b[0msuper\u001b[0m\u001b[0;34m(\u001b[0m\u001b[0mSGD\u001b[0m\u001b[0;34m,\u001b[0m \u001b[0mself\u001b[0m\u001b[0;34m)\u001b[0m\u001b[0;34m.\u001b[0m\u001b[0m__init__\u001b[0m\u001b[0;34m(\u001b[0m\u001b[0mparams\u001b[0m\u001b[0;34m,\u001b[0m \u001b[0mdefaults\u001b[0m\u001b[0;34m)\u001b[0m\u001b[0;34m\u001b[0m\u001b[0;34m\u001b[0m\u001b[0m\n\u001b[0m\u001b[1;32m     70\u001b[0m \u001b[0;34m\u001b[0m\u001b[0m\n\u001b[1;32m     71\u001b[0m     \u001b[0;32mdef\u001b[0m \u001b[0m__setstate__\u001b[0m\u001b[0;34m(\u001b[0m\u001b[0mself\u001b[0m\u001b[0;34m,\u001b[0m \u001b[0mstate\u001b[0m\u001b[0;34m)\u001b[0m\u001b[0;34m:\u001b[0m\u001b[0;34m\u001b[0m\u001b[0;34m\u001b[0m\u001b[0m\n",
      "\u001b[0;32m~/anaconda3/envs/d2l/lib/python3.8/site-packages/torch/optim/optimizer.py\u001b[0m in \u001b[0;36m__init__\u001b[0;34m(self, params, defaults)\u001b[0m\n\u001b[1;32m     38\u001b[0m \u001b[0;34m\u001b[0m\u001b[0m\n\u001b[1;32m     39\u001b[0m         \u001b[0;32mif\u001b[0m \u001b[0misinstance\u001b[0m\u001b[0;34m(\u001b[0m\u001b[0mparams\u001b[0m\u001b[0;34m,\u001b[0m \u001b[0mtorch\u001b[0m\u001b[0;34m.\u001b[0m\u001b[0mTensor\u001b[0m\u001b[0;34m)\u001b[0m\u001b[0;34m:\u001b[0m\u001b[0;34m\u001b[0m\u001b[0;34m\u001b[0m\u001b[0m\n\u001b[0;32m---> 40\u001b[0;31m             raise TypeError(\"params argument given to the optimizer should be \"\n\u001b[0m\u001b[1;32m     41\u001b[0m                             \u001b[0;34m\"an iterable of Tensors or dicts, but got \"\u001b[0m \u001b[0;34m+\u001b[0m\u001b[0;34m\u001b[0m\u001b[0;34m\u001b[0m\u001b[0m\n\u001b[1;32m     42\u001b[0m                             torch.typename(params))\n",
      "\u001b[0;31mTypeError\u001b[0m: params argument given to the optimizer should be an iterable of Tensors or dicts, but got torch.FloatTensor"
     ]
    }
   ],
   "source": [
    "weights = torch.ones(5, requires_grad=True)\n",
    "print(type(weights))\n",
    "optimizer = torch.optim.SGD(weights, lr=0.01)\n",
    "optimizer.step()\n",
    "optimizer.zero_grad()"
   ]
  },
  {
   "cell_type": "markdown",
   "id": "6720bfe5-774c-4fb5-bb2c-9c9819f76936",
   "metadata": {},
   "source": [
    "### Backpropagation\n",
    "\n",
    "let: ```x=1```, ```y=2```, ```w=1``` ,```f=w*x```"
   ]
  },
  {
   "cell_type": "code",
   "execution_count": 72,
   "id": "36a94e8f-24a0-4323-9a28-38b0479dd1e9",
   "metadata": {},
   "outputs": [],
   "source": [
    "x = torch.tensor(1.0)\n",
    "y = torch.tensor(2.0)\n",
    "\n",
    "w = torch.tensor(1.0, requires_grad=True)"
   ]
  },
  {
   "cell_type": "code",
   "execution_count": 73,
   "id": "bc583369-12f0-4a71-b455-f0c01358caa0",
   "metadata": {},
   "outputs": [],
   "source": [
    "# 1. forward pass\n",
    "y_hat = w * x\n",
    "\n",
    "# loss\n",
    "loss = (y_hat - y) ** 2"
   ]
  },
  {
   "cell_type": "code",
   "execution_count": 74,
   "id": "94824304-59f0-4b80-b46f-23a8f142c22f",
   "metadata": {},
   "outputs": [
    {
     "name": "stdout",
     "output_type": "stream",
     "text": [
      "tensor(-2.)\n"
     ]
    }
   ],
   "source": [
    "# 3. backward pass\n",
    "# PyTorch computes 2. local gradients automatically for us\n",
    "loss.backward()\n",
    "\n",
    "print(w.grad)"
   ]
  },
  {
   "cell_type": "code",
   "execution_count": 75,
   "id": "0a8752f2-fd62-461f-a88d-3810f66b608f",
   "metadata": {},
   "outputs": [],
   "source": [
    "### update weights w and couple of iterations"
   ]
  },
  {
   "cell_type": "code",
   "execution_count": null,
   "id": "f6b44fa3-08ab-429b-ae77-d18adbf0760b",
   "metadata": {},
   "outputs": [],
   "source": []
  }
 ],
 "metadata": {
  "kernelspec": {
   "display_name": "Python 3",
   "language": "python",
   "name": "python3"
  },
  "language_info": {
   "codemirror_mode": {
    "name": "ipython",
    "version": 3
   },
   "file_extension": ".py",
   "mimetype": "text/x-python",
   "name": "python",
   "nbconvert_exporter": "python",
   "pygments_lexer": "ipython3",
   "version": "3.8.10"
  }
 },
 "nbformat": 4,
 "nbformat_minor": 5
}
