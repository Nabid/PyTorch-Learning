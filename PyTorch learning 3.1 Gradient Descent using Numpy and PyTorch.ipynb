{
 "cells": [
  {
   "cell_type": "markdown",
   "id": "5f4fdc1a-29fe-4811-b1a7-34b11f13361f",
   "metadata": {},
   "source": [
    "### Gradient Descent using Numpy\n",
    "\n",
    "Logistic Regression from scratch using Numpy library"
   ]
  },
  {
   "cell_type": "code",
   "execution_count": 2,
   "id": "94c30573-b03a-4129-aeba-d29b7db748c1",
   "metadata": {},
   "outputs": [],
   "source": [
    "import numpy as np"
   ]
  },
  {
   "cell_type": "code",
   "execution_count": 47,
   "id": "ac31b0cf-ba16-4de6-8da9-cbb3aac4dc21",
   "metadata": {},
   "outputs": [],
   "source": [
    "# f = w * x\n",
    "\n",
    "# here f = 2 * x\n",
    "X = np.array([1, 2, 3, 4], dtype=np.float32)\n",
    "Y = np.array([2, 4, 6, 8], dtype=np.float32)\n",
    "\n",
    "# start predicting w from 0.0 to 2.0\n",
    "def initW():\n",
    "     return 0.0\n",
    "\n",
    "# precision for loss loss\n",
    "EPS = 1e-09"
   ]
  },
  {
   "cell_type": "code",
   "execution_count": 4,
   "id": "a07c786c-9118-433c-a727-3ced6c22c803",
   "metadata": {},
   "outputs": [],
   "source": [
    "# model prediction\n",
    "def forward(x):\n",
    "    return w * x\n",
    "\n",
    "# loss (MSE)\n",
    "def loss(y, y_predicted):\n",
    "    return ((y-y_predicted)**2).mean()\n",
    "\n",
    "# gradient\n",
    "# loss(MSE) = 1/N * (w*x - y)^2\n",
    "# dLoss/dw = 1/N 2x (w*x - y)\n",
    "def gradient(x, y, y_predicted):\n",
    "    return np.dot(2*x, y_predicted-y).mean()\n",
    "    "
   ]
  },
  {
   "cell_type": "code",
   "execution_count": 46,
   "id": "330a0218-b1b2-40cc-91be-46afe25ff85e",
   "metadata": {},
   "outputs": [
    {
     "name": "stdout",
     "output_type": "stream",
     "text": [
      "Prediction before training: f(5) = 0.000\n",
      "epoch 1: w = 1.200000, loss = 30.00000000\n",
      "epoch 11: w = 1.999916, loss = 0.00000033\n",
      "Prediction before training: f(5) = 10.000\n"
     ]
    }
   ],
   "source": [
    "w = initW()\n",
    "print(f'Prediction before training: f(5) = {forward(5):.3f}')\n",
    "\n",
    "# Training\n",
    "learning_rate = 0.01\n",
    "n_iters = 100\n",
    "\n",
    "for epoch in range(n_iters):\n",
    "    # prediction = forward pass\n",
    "    y_pred = forward(X)\n",
    "    \n",
    "    # loss \n",
    "    l = loss(Y, y_pred)\n",
    "    \n",
    "    # gradients\n",
    "    dw = gradient(X, Y, y_pred)\n",
    "    \n",
    "    # update weights\n",
    "    w -= learning_rate * dw\n",
    "    \n",
    "    if epoch % 10 == 0:\n",
    "        print(f'epoch {epoch+1}: w = {w:3f}, loss = {l:.8f}')\n",
    "    \n",
    "    # break if loss is too small that it's negligible\n",
    "    if l < EPS:\n",
    "        break\n",
    "\n",
    "print(f'Prediction before training: f(5) = {forward(5):.3f}')"
   ]
  },
  {
   "cell_type": "markdown",
   "id": "10b48ec8-0067-4102-80f3-97ab0a83afcf",
   "metadata": {},
   "source": [
    "### Gradient Descent using PyTorch (Autograd)\n",
    "\n",
    "Using PyTorch to calculate the gradients with backpropagation"
   ]
  },
  {
   "cell_type": "code",
   "execution_count": 32,
   "id": "14d7b1e0-a1f3-42fc-92cf-16e68ffce5e6",
   "metadata": {},
   "outputs": [],
   "source": [
    "import torch"
   ]
  },
  {
   "cell_type": "code",
   "execution_count": 49,
   "id": "0e7d41e2-58b4-4b01-8360-0cbe0df67992",
   "metadata": {},
   "outputs": [],
   "source": [
    "# f = w * x\n",
    "\n",
    "# here f = 2 * x\n",
    "X = torch.tensor([1, 2, 3, 4], dtype=torch.float32)\n",
    "Y = torch.tensor([2, 4, 6, 8], dtype=torch.float32)\n",
    "\n",
    "# start predicting w from 0.0 to 2\n",
    "def initW_pt():\n",
    "    return torch.tensor(0.0, dtype=torch.float32, requires_grad=True)\n",
    "\n",
    "# precision for loss loss\n",
    "EPS = 1e-09"
   ]
  },
  {
   "cell_type": "code",
   "execution_count": 35,
   "id": "fc8de7d7-700c-4fe3-96f8-63b50e5e2c93",
   "metadata": {},
   "outputs": [],
   "source": [
    "# model prediction\n",
    "def forward(x):\n",
    "    return w * x\n",
    "\n",
    "# loss (MSE)\n",
    "def loss(y, y_predicted):\n",
    "    return ((y-y_predicted)**2).mean()\n",
    "\n",
    "# gradient\n",
    "# Autograd in PyTorch calculates automatically"
   ]
  },
  {
   "cell_type": "code",
   "execution_count": 52,
   "id": "c8228ddf-9bbc-4b54-a22f-5c16c5880036",
   "metadata": {},
   "outputs": [
    {
     "name": "stdout",
     "output_type": "stream",
     "text": [
      "Prediction before training: f(5) = 0.000\n",
      "epoch 1: w = 0.300000, loss = 30.00000000\n",
      "epoch 11: w = 1.665314, loss = 1.16278565\n",
      "epoch 21: w = 1.934109, loss = 0.04506890\n",
      "epoch 31: w = 1.987028, loss = 0.00174685\n",
      "epoch 41: w = 1.997446, loss = 0.00006770\n",
      "epoch 51: w = 1.999497, loss = 0.00000262\n",
      "epoch 61: w = 1.999901, loss = 0.00000010\n",
      "epoch 71: w = 1.999980, loss = 0.00000000\n",
      "Prediction before training: f(5) = 10.000\n"
     ]
    }
   ],
   "source": [
    "w = initW_pt()\n",
    "print(f'Prediction before training: f(5) = {forward(5):.3f}')\n",
    "\n",
    "# Training\n",
    "learning_rate = 0.01\n",
    "n_iters = 100\n",
    "\n",
    "for epoch in range(n_iters):\n",
    "    # prediction = forward pass\n",
    "    y_pred = forward(X)\n",
    "    \n",
    "    # loss \n",
    "    l = loss(Y, y_pred)\n",
    "    \n",
    "    # gradients = backward pass\n",
    "    l.backward() # dLoss/dw\n",
    "    \n",
    "    # update weights (requires_grad not needed)\n",
    "    with torch.no_grad():\n",
    "        w -= learning_rate * w.grad\n",
    "    \n",
    "    # remember to empty gradients for next calculation\n",
    "    w.grad.zero_()\n",
    "    \n",
    "    if epoch % 10 == 0:\n",
    "        print(f'epoch {epoch+1}: w = {w:3f}, loss = {l:.8f}')\n",
    "    \n",
    "    # break if loss is too small that it's negligible\n",
    "    if l < EPS:\n",
    "        break\n",
    "\n",
    "print(f'Prediction before training: f(5) = {forward(5):.3f}')"
   ]
  },
  {
   "cell_type": "markdown",
   "id": "92bbba90-a90b-4e85-9fec-0c2aeb97c897",
   "metadata": {},
   "source": [
    "####  Using PyTorch Loss and Optimizer\n",
    "1) Design model (input, output size, forward pass)\n",
    "2) Construct loss and optimizer\n",
    "3) Training Loop:\n",
    "     - forward pass: compute gradient\n",
    "     - backward pass: gradients\n",
    "     - update weights"
   ]
  },
  {
   "cell_type": "code",
   "execution_count": 54,
   "id": "b93aa5da-885d-4929-9161-af1e4e8c982b",
   "metadata": {},
   "outputs": [],
   "source": [
    "import torch.nn as nn"
   ]
  },
  {
   "cell_type": "code",
   "execution_count": 53,
   "id": "589ef440-cc15-4b0a-aef9-58c25f8b69fe",
   "metadata": {},
   "outputs": [],
   "source": [
    "# model prediction\n",
    "def forward(x):\n",
    "    return w * x"
   ]
  },
  {
   "cell_type": "code",
   "execution_count": 62,
   "id": "fa07f3ca-94c4-4e07-be1f-ba4439a36dde",
   "metadata": {},
   "outputs": [
    {
     "name": "stdout",
     "output_type": "stream",
     "text": [
      "Prediction before training: f(5) = 0.000\n",
      "epoch 1: w = 0.300000, loss = 30.00000000\n",
      "epoch 11: w = 1.665314, loss = 1.16278565\n",
      "epoch 21: w = 1.934109, loss = 0.04506890\n",
      "epoch 31: w = 1.987028, loss = 0.00174685\n",
      "epoch 41: w = 1.997446, loss = 0.00006770\n",
      "epoch 51: w = 1.999497, loss = 0.00000262\n",
      "epoch 61: w = 1.999901, loss = 0.00000010\n",
      "epoch 71: w = 1.999980, loss = 0.00000000\n",
      "Prediction before training: f(5) = 10.000\n"
     ]
    }
   ],
   "source": [
    "w = initW_pt()\n",
    "print(f'Prediction before training: f(5) = {forward(5):.3f}')\n",
    "\n",
    "# Training\n",
    "learning_rate = 0.01\n",
    "n_iters = 100\n",
    "\n",
    "loss = nn.MSELoss()\n",
    "optimizer = torch.optim.SGD([w], lr=learning_rate)\n",
    "\n",
    "for epoch in range(n_iters):\n",
    "    # prediction = forward pass\n",
    "    y_pred = forward(X)\n",
    "    \n",
    "    # loss \n",
    "    l = loss(Y, y_pred)\n",
    "    \n",
    "    # gradients = backward pass\n",
    "    l.backward() # dLoss/dw\n",
    "    \n",
    "    # update weights\n",
    "    optimizer.step()\n",
    "    \n",
    "    # remember to empty gradients for next calculation\n",
    "    optimizer.zero_grad()\n",
    "    \n",
    "    if epoch % 10 == 0:\n",
    "        print(f'epoch {epoch+1}: w = {w:3f}, loss = {l:.8f}')\n",
    "    \n",
    "    # break if loss is too small that it's negligible\n",
    "    if l < EPS:\n",
    "        break\n",
    "\n",
    "print(f'Prediction before training: f(5) = {forward(5):.3f}')"
   ]
  },
  {
   "cell_type": "markdown",
   "id": "219cc84d-22bd-4d09-95ab-02150752ec8a",
   "metadata": {},
   "source": [
    "#### Using PyTorch model"
   ]
  },
  {
   "cell_type": "code",
   "execution_count": 81,
   "id": "bd5ae22b-97c3-4363-ac9a-a257f55f3b70",
   "metadata": {},
   "outputs": [],
   "source": [
    "X = torch.tensor([[1], [2], [3], [4]], dtype=torch.float32)\n",
    "Y = torch.tensor([[2], [4], [6], [8]], dtype=torch.float32)\n",
    "\n",
    "X_test = torch.tensor([5], dtype=torch.float32)\n",
    "n_samples, n_features = X.shape\n",
    "\n",
    "input_size = n_features\n",
    "output_size = n_features\n",
    "\n",
    "model = nn.Linear(input_size, output_size)\n",
    "\n",
    "class LinearRegression(nn.Module):\n",
    "    def __init__(self, input_dim, output_dim):\n",
    "        super(LinearRegression, self).__init__()\n",
    "        #definne layers\n",
    "        self.lin = nn.Linear(input_dim, output_dim)\n",
    "        \n",
    "    def forward(self, x):\n",
    "        return self.lin(x)\n",
    "    \n",
    "model = LinearRegression(input_size, output_size)"
   ]
  },
  {
   "cell_type": "code",
   "execution_count": 87,
   "id": "4b360fab-72a4-488b-8e6f-1eec12fcaf7e",
   "metadata": {},
   "outputs": [
    {
     "name": "stdout",
     "output_type": "stream",
     "text": [
      "Prediction before training: f(5) = 9.781\n",
      "epoch 1: w = 1.894, loss = 0.01633691\n",
      "epoch 11: w = 1.897, loss = 0.01538603\n",
      "epoch 21: w = 1.900, loss = 0.01449047\n",
      "epoch 31: w = 1.903, loss = 0.01364705\n",
      "epoch 41: w = 1.906, loss = 0.01285272\n",
      "epoch 51: w = 1.909, loss = 0.01210462\n",
      "epoch 61: w = 1.911, loss = 0.01140008\n",
      "epoch 71: w = 1.914, loss = 0.01073652\n",
      "epoch 81: w = 1.917, loss = 0.01011160\n",
      "epoch 91: w = 1.919, loss = 0.00952304\n",
      "Prediction before training: f(5) = 9.838\n"
     ]
    }
   ],
   "source": [
    "print(f'Prediction before training: f(5) = {model(X_test).item():.3f}')\n",
    "\n",
    "# Training\n",
    "learning_rate = 0.01\n",
    "n_iters = 100\n",
    "\n",
    "loss = nn.MSELoss()\n",
    "optimizer = torch.optim.SGD(model.parameters(), lr=learning_rate)\n",
    "\n",
    "for epoch in range(n_iters):\n",
    "    # prediction = forward pass\n",
    "    y_pred = model(X)\n",
    "    \n",
    "    # loss \n",
    "    l = loss(Y, y_pred)\n",
    "    \n",
    "    # gradients = backward pass\n",
    "    l.backward() # dLoss/dw\n",
    "    \n",
    "    # update weights\n",
    "    optimizer.step()\n",
    "    \n",
    "    # remember to empty gradients for next calculation\n",
    "    optimizer.zero_grad()\n",
    "    \n",
    "    if epoch % 10 == 0:\n",
    "        [w, b] = model.parameters()\n",
    "        print(f'epoch {epoch+1}: w = {w[0][0].item():.3f}, loss = {l:.8f}')\n",
    "    \n",
    "    # break if loss is too small that it's negligible\n",
    "    if l < EPS:\n",
    "        break\n",
    "\n",
    "# output will get better and better after each run\n",
    "print(f'Prediction before training: f(5) = {model(X_test).item():.3f}')"
   ]
  },
  {
   "cell_type": "code",
   "execution_count": null,
   "id": "688d00a4-44cd-4fe8-a72c-b99b1d477088",
   "metadata": {},
   "outputs": [],
   "source": []
  }
 ],
 "metadata": {
  "kernelspec": {
   "display_name": "Python 3",
   "language": "python",
   "name": "python3"
  },
  "language_info": {
   "codemirror_mode": {
    "name": "ipython",
    "version": 3
   },
   "file_extension": ".py",
   "mimetype": "text/x-python",
   "name": "python",
   "nbconvert_exporter": "python",
   "pygments_lexer": "ipython3",
   "version": "3.8.10"
  }
 },
 "nbformat": 4,
 "nbformat_minor": 5
}
